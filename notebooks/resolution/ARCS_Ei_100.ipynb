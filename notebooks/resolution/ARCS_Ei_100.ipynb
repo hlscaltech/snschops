{
 "cells": [
  {
   "cell_type": "markdown",
   "metadata": {},
   "source": [
    "# ARCS Ei=100meV resolution"
   ]
  },
  {
   "cell_type": "markdown",
   "metadata": {},
   "source": [
    "Instrument: ARCS\n",
    "* Ei=100meV\n",
    "* Fermi chopper: 600 Hz\n",
    "* T0: 120Hz\n",
    "\n",
    "Sample: resolution sample\n",
    "* hkl: -16/3.,-8/3.,8/3.\n",
    "* E: 40"
   ]
  },
  {
   "cell_type": "code",
   "execution_count": 2,
   "metadata": {
    "collapsed": false
   },
   "outputs": [],
   "source": [
    "# some goodies\n",
    "# %matplotlib notebook\n",
    "%matplotlib inline\n",
    "from matplotlib import pyplot as plt\n",
    "import numpy as np"
   ]
  },
  {
   "cell_type": "code",
   "execution_count": 3,
   "metadata": {
    "collapsed": true
   },
   "outputs": [],
   "source": [
    "import histogram.hdf as hh, histogram as H"
   ]
  },
  {
   "cell_type": "markdown",
   "metadata": {},
   "source": [
    "## Formula"
   ]
  },
  {
   "cell_type": "markdown",
   "metadata": {},
   "source": [
    "\\begin{align}\n",
    "\\frac{\\Delta E_i}{E_i} & = 2 \\frac{\\Delta v_i}{v_i} \\\\\n",
    "\\frac{\\Delta v_i}{v_i} & = \\sqrt{ \\big( \\frac{\\Delta t_i}{t_i} \\big)^2 + \\big(\\frac{\\Delta L_i}{L_i} \\big)^2}\n",
    "\\end{align}"
   ]
  },
  {
   "cell_type": "markdown",
   "metadata": {},
   "source": [
    "## Input Parameters"
   ]
  },
  {
   "cell_type": "markdown",
   "metadata": {},
   "source": [
    "### Instrument parameters"
   ]
  },
  {
   "cell_type": "code",
   "execution_count": 39,
   "metadata": {
    "collapsed": true
   },
   "outputs": [],
   "source": [
    "Ei = 100\n",
    "L_PM=11.61\n",
    "R = 3.\n",
    "L_PS=13.6\n",
    "L_MS=L_PS-L_PM\n",
    "sample_size = 10*.01 #"
   ]
  },
  {
   "cell_type": "markdown",
   "metadata": {},
   "source": [
    "### Dynamics"
   ]
  },
  {
   "cell_type": "code",
   "execution_count": 5,
   "metadata": {
    "collapsed": true
   },
   "outputs": [],
   "source": [
    "E = 40.\n",
    "hkl = -16/3.,-8/3.,8/3."
   ]
  },
  {
   "cell_type": "code",
   "execution_count": 14,
   "metadata": {
    "collapsed": false
   },
   "outputs": [
    {
     "name": "stdout",
     "output_type": "stream",
     "text": [
      "Writing Si.yml\n"
     ]
    }
   ],
   "source": [
    "%%file Si.yml\n",
    "name: Si\n",
    "chemical_formula: Si2\n",
    "lattice: \n",
    " constants: 5.490700041, 5.490700041, 5.490700041, 90, 90, 90\n",
    " basis_vectors:\n",
    "  - 5.490700041, 0, 0\n",
    "  - 0, 5.490700041, 0\n",
    "  - 0, 0, 5.490700041\n",
    " primitive_basis_vectors:\n",
    "  - 0.0, 2.71526503565, 2.71526503565\n",
    "  - 2.71526503565, 0.0, 2.71526503565\n",
    "  - 2.71526503565, 2.71526503565, 0.0\n",
    "excitations:\n",
    "  - type: deltafunction\n",
    "    hkl: -16/3.,-8/3.,8/3.\n",
    "    E: 40.\n",
    "    dE: 0.5\n",
    "orientation:\n",
    " u: -1, 1, -1\n",
    " v: 2, 1, -1\n",
    "shape: hollowCylinder in_radius=\"5./8*inch\" out_radius=\"1.*inch\" height=\"1.5*inch\"\n",
    "temperature: 100*K"
   ]
  },
  {
   "cell_type": "markdown",
   "metadata": {},
   "source": [
    "### Other parameters"
   ]
  },
  {
   "cell_type": "code",
   "execution_count": 44,
   "metadata": {
    "collapsed": true
   },
   "outputs": [],
   "source": [
    "m = 1.6750e-24 * 1e-3 #kg"
   ]
  },
  {
   "cell_type": "markdown",
   "metadata": {},
   "source": [
    "### Derived parameters"
   ]
  },
  {
   "cell_type": "code",
   "execution_count": 6,
   "metadata": {
    "collapsed": false
   },
   "outputs": [],
   "source": [
    "from mcni.utils import conversion as Conv"
   ]
  },
  {
   "cell_type": "code",
   "execution_count": 7,
   "metadata": {
    "collapsed": false
   },
   "outputs": [
    {
     "name": "stdout",
     "output_type": "stream",
     "text": [
      "4373.93313724\n"
     ]
    }
   ],
   "source": [
    "vi = Conv.e2v(Ei)\n",
    "print vi"
   ]
  },
  {
   "cell_type": "code",
   "execution_count": 8,
   "metadata": {
    "collapsed": false
   },
   "outputs": [
    {
     "name": "stdout",
     "output_type": "stream",
     "text": [
      "2654.36156331\n"
     ]
    }
   ],
   "source": [
    "ti = L_PM/vi*1e6 # microsecond\n",
    "print ti"
   ]
  },
  {
   "cell_type": "code",
   "execution_count": 9,
   "metadata": {
    "collapsed": true
   },
   "outputs": [],
   "source": [
    "Ef = Ei - E"
   ]
  },
  {
   "cell_type": "code",
   "execution_count": 10,
   "metadata": {
    "collapsed": false
   },
   "outputs": [
    {
     "name": "stdout",
     "output_type": "stream",
     "text": [
      "3388.03403959\n"
     ]
    }
   ],
   "source": [
    "vf = Conv.e2v(Ef)\n",
    "print vf"
   ]
  },
  {
   "cell_type": "code",
   "execution_count": 13,
   "metadata": {
    "collapsed": false
   },
   "outputs": [
    {
     "name": "stdout",
     "output_type": "stream",
     "text": [
      "Usage: mcvine workflow sx orientation solve_psi [OPTIONS] SAMPLE\r\n",
      "\r\n",
      "  compute psi angle\r\n",
      "\r\n",
      "Options:\r\n",
      "  --Ei FLOAT\r\n",
      "  --hkl <FLOAT FLOAT FLOAT>...\r\n",
      "  --E FLOAT\r\n",
      "  --psimin FLOAT\r\n",
      "  --psimax FLOAT\r\n",
      "  --number-segments INTEGER\r\n",
      "  --help                        Show this message and exit.\r\n"
     ]
    }
   ],
   "source": [
    "!mcvine workflow sx orientation solve_psi --help"
   ]
  },
  {
   "cell_type": "code",
   "execution_count": 15,
   "metadata": {
    "collapsed": true
   },
   "outputs": [],
   "source": [
    "hkl_opt = '%s %s %s' % tuple(hkl)"
   ]
  },
  {
   "cell_type": "code",
   "execution_count": 24,
   "metadata": {
    "collapsed": false
   },
   "outputs": [
    {
     "name": "stdout",
     "output_type": "stream",
     "text": [
      "/home/lj7/dv/mcvine/export/share/mcvine/workflow/mcvine_workflow/singlextal/solve_psi.py:55: UserWarning: Traceback (most recent call last):\r\n",
      "  File \"/home/lj7/dv/mcvine/export/share/mcvine/workflow/mcvine_workflow/singlextal/solve_psi.py\", line 52, in solve\r\n",
      "    results.append(solver(res, min, max))\r\n",
      "  File \"/home/lj7/miniconda2/envs/dev-mcvine/lib/python2.7/site-packages/scipy/optimize/zeros.py\", line 442, in brentq\r\n",
      "    r = _zeros._brentq(f,a,b,xtol,rtol,maxiter,args,full_output,disp)\r\n",
      "ValueError: f(a) and f(b) must have different signs\r\n",
      "\r\n",
      "  warnings.warn(tb.format_exc())\r\n",
      "psi=46.374678916, Q=[ 5.41072298 -5.15712343  0.        ]\r\n"
     ]
    }
   ],
   "source": [
    "!mcvine workflow sx orientation solve_psi --Ei=100 --hkl {hkl_opt} \\\n",
    "    --E 40 --psimin -5 --psimax 90 Si.yml"
   ]
  },
  {
   "cell_type": "code",
   "execution_count": 28,
   "metadata": {
    "collapsed": true
   },
   "outputs": [],
   "source": [
    "Q =  np.array([5.41072298, -5.15712343,  0. ])"
   ]
  },
  {
   "cell_type": "code",
   "execution_count": 120,
   "metadata": {
    "collapsed": false
   },
   "outputs": [
    {
     "name": "stdout",
     "output_type": "stream",
     "text": [
      "7.47474716887\n"
     ]
    }
   ],
   "source": [
    "Q_len = np.linalg.norm(Q); print Q_len"
   ]
  },
  {
   "cell_type": "code",
   "execution_count": 35,
   "metadata": {
    "collapsed": false
   },
   "outputs": [
    {
     "name": "stdout",
     "output_type": "stream",
     "text": [
      "6.94692092177\n"
     ]
    }
   ],
   "source": [
    "ki = Conv.e2k(Ei); print ki"
   ]
  },
  {
   "cell_type": "code",
   "execution_count": 36,
   "metadata": {
    "collapsed": false
   },
   "outputs": [],
   "source": [
    "kiv = np.array([ki, 0, 0])\n",
    "kfv = kiv - Q"
   ]
  },
  {
   "cell_type": "markdown",
   "metadata": {},
   "source": [
    "** Verify the momentum and energy transfers **"
   ]
  },
  {
   "cell_type": "code",
   "execution_count": 38,
   "metadata": {
    "collapsed": false
   },
   "outputs": [
    {
     "name": "stdout",
     "output_type": "stream",
     "text": [
      "39.9999999739\n",
      "40.0\n"
     ]
    }
   ],
   "source": [
    "print Ei-Conv.k2e(np.linalg.norm(kfv))\n",
    "print Ei-Ef"
   ]
  },
  {
   "cell_type": "markdown",
   "metadata": {},
   "source": [
    "** Compute detector pixel position **"
   ]
  },
  {
   "cell_type": "code",
   "execution_count": 41,
   "metadata": {
    "collapsed": false
   },
   "outputs": [
    {
     "name": "stdout",
     "output_type": "stream",
     "text": [
      "0.0 3.0\n"
     ]
    }
   ],
   "source": [
    "z = kfv[2]/(kfv[0]**2+kfv[1]**2)**.5 * R\n",
    "L_SD=(z**2+R**2)**.5\n",
    "print z, L_SD"
   ]
  },
  {
   "cell_type": "markdown",
   "metadata": {},
   "source": [
    "## Differentials"
   ]
  },
  {
   "cell_type": "code",
   "execution_count": 45,
   "metadata": {
    "collapsed": false
   },
   "outputs": [],
   "source": [
    "pE_pt = -m*(vi**3/L_PM + vf**3/L_SD * L_MS/L_PM)"
   ]
  },
  {
   "cell_type": "code",
   "execution_count": 46,
   "metadata": {
    "collapsed": false
   },
   "outputs": [
    {
     "name": "stdout",
     "output_type": "stream",
     "text": [
      "-1.5794390036e-17\n"
     ]
    }
   ],
   "source": [
    "print pE_pt"
   ]
  },
  {
   "cell_type": "code",
   "execution_count": 47,
   "metadata": {
    "collapsed": false
   },
   "outputs": [
    {
     "name": "stdout",
     "output_type": "stream",
     "text": [
      "-0.098580621628\n"
     ]
    }
   ],
   "source": [
    "# convert to eV/microsecond\n",
    "eV = 1.60218e-19\n",
    "meV = eV*1e-3\n",
    "mus = 1.e-6\n",
    "pE_pt /= meV/mus\n",
    "print pE_pt"
   ]
  },
  {
   "cell_type": "code",
   "execution_count": 48,
   "metadata": {
    "collapsed": false
   },
   "outputs": [
    {
     "name": "stdout",
     "output_type": "stream",
     "text": [
      "0.135526912828\n"
     ]
    }
   ],
   "source": [
    "pE_ptMD = m*vf**3/L_SD\n",
    "pE_ptMD /= meV/mus\n",
    "print pE_ptMD"
   ]
  },
  {
   "cell_type": "code",
   "execution_count": 49,
   "metadata": {
    "collapsed": false
   },
   "outputs": [
    {
     "name": "stdout",
     "output_type": "stream",
     "text": [
      "22.5382095553\n"
     ]
    }
   ],
   "source": [
    "pE_pLPM = m/L_PM * (vi**2 + vf**3/vi * L_MS/ L_SD)\n",
    "pE_pLPM /= meV\n",
    "print pE_pLPM"
   ]
  },
  {
   "cell_type": "code",
   "execution_count": 50,
   "metadata": {
    "collapsed": false
   },
   "outputs": [
    {
     "name": "stdout",
     "output_type": "stream",
     "text": [
      "-30.9851359349\n"
     ]
    }
   ],
   "source": [
    "pE_pLMS= -m/L_SD * (vf**3/vi)\n",
    "pE_pLMS /= meV\n",
    "print pE_pLMS"
   ]
  },
  {
   "cell_type": "code",
   "execution_count": 51,
   "metadata": {
    "collapsed": false
   },
   "outputs": [
    {
     "name": "stdout",
     "output_type": "stream",
     "text": [
      "-40.0016384853\n"
     ]
    }
   ],
   "source": [
    "pE_pLSD = -m*vf*vf/L_SD\n",
    "pE_pLSD /= meV\n",
    "print pE_pLSD"
   ]
  },
  {
   "cell_type": "code",
   "execution_count": 53,
   "metadata": {
    "collapsed": false
   },
   "outputs": [
    {
     "name": "stdout",
     "output_type": "stream",
     "text": [
      "-40.0016384853 -0.0\n"
     ]
    }
   ],
   "source": [
    "# we don't need pE_pLSD, instead we need pE_pR and pE_pz. R and z are cylinder radius and z coordinate\n",
    "pE_pR = pE_pLSD * (R/L_SD)\n",
    "pE_pz = pE_pLSD * (z/L_SD)\n",
    "print pE_pR, pE_pz"
   ]
  },
  {
   "cell_type": "markdown",
   "metadata": {},
   "source": [
    "## Estimate of standard deviations"
   ]
  },
  {
   "cell_type": "code",
   "execution_count": 65,
   "metadata": {
    "collapsed": true
   },
   "outputs": [],
   "source": [
    "tau_P = 10 # microsecond\n",
    "tau_M = 8 # microsecond\n",
    "tau_D = 0.1 # microsecond"
   ]
  },
  {
   "cell_type": "markdown",
   "metadata": {},
   "source": [
    "## Calculations"
   ]
  },
  {
   "cell_type": "code",
   "execution_count": 54,
   "metadata": {
    "collapsed": true
   },
   "outputs": [],
   "source": [
    "pE_p_vec = [pE_pt, pE_ptMD, pE_pLPM, pE_pLMS, pE_pR, pE_pz]\n",
    "\n",
    "pE_p_vec = np.array(pE_p_vec)\n",
    "\n",
    "J_E = pE_p_vec/E"
   ]
  },
  {
   "cell_type": "code",
   "execution_count": 57,
   "metadata": {
    "collapsed": false
   },
   "outputs": [
    {
     "name": "stdout",
     "output_type": "stream",
     "text": [
      "[-0.00246452  0.00338817  0.56345524 -0.7746284  -1.00004096 -0.        ]\n"
     ]
    }
   ],
   "source": [
    "print J_E"
   ]
  },
  {
   "cell_type": "code",
   "execution_count": 63,
   "metadata": {
    "collapsed": true
   },
   "outputs": [],
   "source": [
    "sigma_t = (tau_P**2+tau_M**2)**.5"
   ]
  },
  {
   "cell_type": "code",
   "execution_count": 66,
   "metadata": {
    "collapsed": true
   },
   "outputs": [],
   "source": [
    "sigma_tMD = (tau_M**2+tau_D**2)**.5"
   ]
  },
  {
   "cell_type": "code",
   "execution_count": 67,
   "metadata": {
    "collapsed": true
   },
   "outputs": [],
   "source": [
    "div = 0.01\n",
    "sigma_LPM = L_PM * div*div"
   ]
  },
  {
   "cell_type": "code",
   "execution_count": 68,
   "metadata": {
    "collapsed": true
   },
   "outputs": [],
   "source": [
    "# mainly due to sample size\n",
    "sigma_LMS = 0.025"
   ]
  },
  {
   "cell_type": "code",
   "execution_count": 82,
   "metadata": {
    "collapsed": true
   },
   "outputs": [],
   "source": [
    "# mainly due to det tube diameter\n",
    "sigma_R = 0.025"
   ]
  },
  {
   "cell_type": "code",
   "execution_count": 83,
   "metadata": {
    "collapsed": true
   },
   "outputs": [],
   "source": [
    "# pixel size\n",
    "sigma_z = 1./128"
   ]
  },
  {
   "cell_type": "code",
   "execution_count": 84,
   "metadata": {
    "collapsed": false
   },
   "outputs": [],
   "source": [
    "sigma2 = np.diag([sigma_t, sigma_tMD, sigma_LPM, sigma_LMS, sigma_R, sigma_z])"
   ]
  },
  {
   "cell_type": "code",
   "execution_count": 85,
   "metadata": {
    "collapsed": false
   },
   "outputs": [
    {
     "name": "stdout",
     "output_type": "stream",
     "text": [
      "[[  1.28062485e+01   0.00000000e+00   0.00000000e+00   0.00000000e+00\n",
      "    0.00000000e+00   0.00000000e+00]\n",
      " [  0.00000000e+00   8.00062498e+00   0.00000000e+00   0.00000000e+00\n",
      "    0.00000000e+00   0.00000000e+00]\n",
      " [  0.00000000e+00   0.00000000e+00   1.16100000e-03   0.00000000e+00\n",
      "    0.00000000e+00   0.00000000e+00]\n",
      " [  0.00000000e+00   0.00000000e+00   0.00000000e+00   2.50000000e-02\n",
      "    0.00000000e+00   0.00000000e+00]\n",
      " [  0.00000000e+00   0.00000000e+00   0.00000000e+00   0.00000000e+00\n",
      "    2.50000000e-02   0.00000000e+00]\n",
      " [  0.00000000e+00   0.00000000e+00   0.00000000e+00   0.00000000e+00\n",
      "    0.00000000e+00   7.81250000e-03]]\n"
     ]
    }
   ],
   "source": [
    "print sigma2"
   ]
  },
  {
   "cell_type": "code",
   "execution_count": 86,
   "metadata": {
    "collapsed": true
   },
   "outputs": [],
   "source": [
    "cov = np.dot(J_E, np.dot(sigma2, J_E))"
   ]
  },
  {
   "cell_type": "code",
   "execution_count": 87,
   "metadata": {
    "collapsed": false
   },
   "outputs": [
    {
     "name": "stdout",
     "output_type": "stream",
     "text": [
      "8.05396810261\n"
     ]
    }
   ],
   "source": [
    "sigma_E = E*np.sqrt(cov)\n",
    "print sigma_E"
   ]
  },
  {
   "cell_type": "markdown",
   "metadata": {},
   "source": [
    "* ** Note: this may be more like FWHM than sigma_E because of the approx I made **\n",
    "* ** FWHM is 2.355 sigma **"
   ]
  },
  {
   "cell_type": "code",
   "execution_count": 88,
   "metadata": {
    "collapsed": false
   },
   "outputs": [
    {
     "name": "stdout",
     "output_type": "stream",
     "text": [
      "3.41994399262\n"
     ]
    }
   ],
   "source": [
    "FWHM_E = sigma_E\n",
    "sigma_E = FWHM_E/2.355\n",
    "print sigma_E"
   ]
  },
  {
   "cell_type": "markdown",
   "metadata": {},
   "source": [
    "## Include Q"
   ]
  },
  {
   "cell_type": "code",
   "execution_count": 89,
   "metadata": {
    "collapsed": false
   },
   "outputs": [
    {
     "name": "stdout",
     "output_type": "stream",
     "text": [
      "2654.36156331\n"
     ]
    }
   ],
   "source": [
    "print ti"
   ]
  },
  {
   "cell_type": "code",
   "execution_count": 91,
   "metadata": {
    "collapsed": false
   },
   "outputs": [
    {
     "name": "stdout",
     "output_type": "stream",
     "text": [
      "587.361276996\n"
     ]
    }
   ],
   "source": [
    "tf = L_MS/vf*1e6; print tf"
   ]
  },
  {
   "cell_type": "code",
   "execution_count": 92,
   "metadata": {
    "collapsed": true
   },
   "outputs": [],
   "source": [
    "thetai = 0\n",
    "phii = 0"
   ]
  },
  {
   "cell_type": "code",
   "execution_count": 93,
   "metadata": {
    "collapsed": false
   },
   "outputs": [
    {
     "name": "stdout",
     "output_type": "stream",
     "text": [
      "3.0\n"
     ]
    }
   ],
   "source": [
    "print R"
   ]
  },
  {
   "cell_type": "code",
   "execution_count": 96,
   "metadata": {
    "collapsed": false
   },
   "outputs": [
    {
     "name": "stdout",
     "output_type": "stream",
     "text": [
      "-0.761405490065\n"
     ]
    }
   ],
   "source": [
    "eeta = np.arctan2(Q[1], Q[0])\n",
    "print eeta"
   ]
  },
  {
   "cell_type": "code",
   "execution_count": 100,
   "metadata": {
    "collapsed": true
   },
   "outputs": [],
   "source": [
    "hbar= 1.0545718e-34"
   ]
  },
  {
   "cell_type": "code",
   "execution_count": 104,
   "metadata": {
    "collapsed": true
   },
   "outputs": [],
   "source": [
    "AA = 1e-10"
   ]
  },
  {
   "cell_type": "code",
   "execution_count": 105,
   "metadata": {
    "collapsed": true
   },
   "outputs": [],
   "source": [
    "from numpy import sin, cos"
   ]
  },
  {
   "cell_type": "code",
   "execution_count": 106,
   "metadata": {
    "collapsed": false
   },
   "outputs": [],
   "source": [
    "pQx_pt = -m/hbar*(L_PM/ti/ti/mus/mus*cos(thetai)*cos(phii)+R/tf/tf/mus/mus*L_MS/L_PM*cos(eeta))"
   ]
  },
  {
   "cell_type": "code",
   "execution_count": 107,
   "metadata": {
    "collapsed": false
   },
   "outputs": [
    {
     "name": "stdout",
     "output_type": "stream",
     "text": [
      "-4.33096008289e+13\n"
     ]
    }
   ],
   "source": [
    "print pQx_pt"
   ]
  },
  {
   "cell_type": "code",
   "execution_count": 108,
   "metadata": {
    "collapsed": false
   },
   "outputs": [
    {
     "name": "stdout",
     "output_type": "stream",
     "text": [
      "-0.00433096008289\n"
     ]
    }
   ],
   "source": [
    "pQx_pt/=1./AA/mus\n",
    "print pQx_pt"
   ]
  },
  {
   "cell_type": "code",
   "execution_count": 109,
   "metadata": {
    "collapsed": false
   },
   "outputs": [
    {
     "name": "stdout",
     "output_type": "stream",
     "text": [
      "0.00999788372299\n"
     ]
    }
   ],
   "source": [
    "pQx_ptMD = m/hbar * R/tf/tf * cos(eeta) / mus/mus\n",
    "pQx_ptMD /= 1./AA/mus\n",
    "print pQx_ptMD"
   ]
  },
  {
   "cell_type": "code",
   "execution_count": 111,
   "metadata": {
    "collapsed": false
   },
   "outputs": [
    {
     "name": "stdout",
     "output_type": "stream",
     "text": [
      "0.990175191756\n"
     ]
    }
   ],
   "source": [
    "pQx_pLPM = m/hbar *(cos(thetai) * cos(phii)/ti + ti/tf/tf * R*L_MS/L_PM/L_PM * cos(eeta)) / mus\n",
    "pQx_pLPM /= 1./AA\n",
    "print pQx_pLPM"
   ]
  },
  {
   "cell_type": "code",
   "execution_count": 112,
   "metadata": {
    "collapsed": false
   },
   "outputs": [
    {
     "name": "stdout",
     "output_type": "stream",
     "text": [
      "-2.28578796458\n"
     ]
    }
   ],
   "source": [
    "pQx_pLMS = -m/hbar * R/tf/tf*ti/L_PM*cos(eeta) / mus\n",
    "pQx_pLMS /= 1./AA\n",
    "print pQx_pLMS"
   ]
  },
  {
   "cell_type": "code",
   "execution_count": 113,
   "metadata": {
    "collapsed": false
   },
   "outputs": [
    {
     "name": "stdout",
     "output_type": "stream",
     "text": [
      "-1.9574565836\n"
     ]
    }
   ],
   "source": [
    "pQx_pR = -m/hbar/tf*cos(eeta) / mus\n",
    "pQx_pR /= 1./AA\n",
    "print pQx_pR"
   ]
  },
  {
   "cell_type": "code",
   "execution_count": 114,
   "metadata": {
    "collapsed": false
   },
   "outputs": [
    {
     "name": "stdout",
     "output_type": "stream",
     "text": [
      "-5.59713290504\n"
     ]
    }
   ],
   "source": [
    "pQx_peeta = m/hbar * R/tf*sin(eeta) /mus\n",
    "pQx_peeta /= 1./AA\n",
    "print pQx_peeta"
   ]
  },
  {
   "cell_type": "code",
   "execution_count": 117,
   "metadata": {
    "collapsed": false
   },
   "outputs": [
    {
     "name": "stdout",
     "output_type": "stream",
     "text": [
      "-0.0\n"
     ]
    }
   ],
   "source": [
    "pQx_pthetai = -m/hbar*L_PM/ti*sin(thetai)*cos(phii)/mus\n",
    "pQx_pthetai/=1./AA\n",
    "print pQx_pthetai"
   ]
  },
  {
   "cell_type": "code",
   "execution_count": 119,
   "metadata": {
    "collapsed": false
   },
   "outputs": [
    {
     "name": "stdout",
     "output_type": "stream",
     "text": [
      "-0.0\n"
     ]
    }
   ],
   "source": [
    "pQx_pphii = -m/hbar*L_PM/ti*cos(thetai)*sin(phii)/mus\n",
    "pQx_pphii/=1./AA\n",
    "print pQx_pphii"
   ]
  },
  {
   "cell_type": "code",
   "execution_count": 121,
   "metadata": {
    "collapsed": true
   },
   "outputs": [],
   "source": [
    "pQx_p_vec = [pQx_pt, pQx_ptMD, pQx_pLPM, pQx_pLMS, pQx_pR, 0, pQx_peeta, pQx_pthetai, pQx_pphii]\n",
    "pQx_p_vec = np.array(pQx_p_vec)\n",
    "J_Qx = pQx_p_vec/Q_len"
   ]
  },
  {
   "cell_type": "markdown",
   "metadata": {},
   "source": [
    "**Qy**"
   ]
  },
  {
   "cell_type": "code",
   "execution_count": null,
   "metadata": {
    "collapsed": true
   },
   "outputs": [],
   "source": []
  }
 ],
 "metadata": {
  "kernelspec": {
   "display_name": "Python 2",
   "language": "python",
   "name": "python2"
  },
  "language_info": {
   "codemirror_mode": {
    "name": "ipython",
    "version": 2
   },
   "file_extension": ".py",
   "mimetype": "text/x-python",
   "name": "python",
   "nbconvert_exporter": "python",
   "pygments_lexer": "ipython2",
   "version": "2.7.12"
  }
 },
 "nbformat": 4,
 "nbformat_minor": 0
}
